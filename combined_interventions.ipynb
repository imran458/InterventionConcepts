{
 "cells": [
  {
   "cell_type": "code",
   "execution_count": 1,
   "id": "e426f795",
   "metadata": {},
   "outputs": [],
   "source": [
    "import pandas as pd"
   ]
  },
  {
   "cell_type": "code",
   "execution_count": 2,
   "id": "db8c2d96",
   "metadata": {},
   "outputs": [],
   "source": [
    "df_1 = pd.read_csv('rhabdo-intervention-concepts.csv')\n",
    "df_2 = pd.read_csv('all-intervention-concepts.csv')\n",
    "df_3 = pd.read_csv('osteo-intervention-concepts.csv')\n",
    "df_4 = pd.read_csv('aml-intervention-concepts.csv')\n",
    "df_5 = pd.read_csv('hodgkins-intervention-concepts.csv')\n",
    "df_6 = pd.read_csv('nonhodgkins-intervention-concepts.csv')"
   ]
  },
  {
   "cell_type": "code",
   "execution_count": 3,
   "id": "a9eb274a",
   "metadata": {},
   "outputs": [
    {
     "name": "stderr",
     "output_type": "stream",
     "text": [
      "/var/folders/1z/7znc8fc51m5_by0dms8jhlkc0000gp/T/ipykernel_76424/429382492.py:1: FutureWarning: The frame.append method is deprecated and will be removed from pandas in a future version. Use pandas.concat instead.\n",
      "  df = df_1.append([df_2,df_3,df_4,df_5,df_6])\n"
     ]
    }
   ],
   "source": [
    "df = df_1.append([df_2,df_3,df_4,df_5,df_6])"
   ]
  },
  {
   "cell_type": "code",
   "execution_count": 4,
   "id": "1e055402",
   "metadata": {},
   "outputs": [
    {
     "name": "stdout",
     "output_type": "stream",
     "text": [
      "<class 'pandas.core.frame.DataFrame'>\n",
      "Int64Index: 46423 entries, 0 to 15530\n",
      "Data columns (total 4 columns):\n",
      " #   Column  Non-Null Count  Dtype \n",
      "---  ------  --------------  ----- \n",
      " 0   trial   46423 non-null  object\n",
      " 1   intCUI  46423 non-null  object\n",
      " 2   name    46421 non-null  object\n",
      " 3   type    46423 non-null  object\n",
      "dtypes: object(4)\n",
      "memory usage: 1.8+ MB\n"
     ]
    }
   ],
   "source": [
    "df.info()"
   ]
  },
  {
   "cell_type": "code",
   "execution_count": 5,
   "id": "787adb23",
   "metadata": {},
   "outputs": [],
   "source": [
    "df = df.replace(' ', '_', regex=True)\n"
   ]
  },
  {
   "cell_type": "code",
   "execution_count": null,
   "id": "7fbfdb9f",
   "metadata": {},
   "outputs": [],
   "source": []
  },
  {
   "cell_type": "code",
   "execution_count": 6,
   "id": "ffd59425",
   "metadata": {},
   "outputs": [
    {
     "data": {
      "text/plain": [
       "type  name                                              \n",
       "gngm  filgrastim                                             416\n",
       "      sargramostim                                            98\n",
       "      ARM                                                     48\n",
       "      IL2                                                     20\n",
       "      WT1                                                     17\n",
       "      II                                                       9\n",
       "      CELL                                                     9\n",
       "      CTX                                                      6\n",
       "      POST                                                     6\n",
       "      FLT                                                      6\n",
       "imft  RITUXIMAB                                              648\n",
       "      Antithymocyte_Globulin                                 234\n",
       "      G_CSF                                                  143\n",
       "      BRENTUXIMAB_VEDOTIN                                    127\n",
       "      Therapeutic_Allogeneic_Lymphocytes                     101\n",
       "      NIVOLUMAB                                               85\n",
       "      PEMBROLIZUMAB                                           72\n",
       "      PLERIXAFOR                                              67\n",
       "      ALDESLEUKIN                                             67\n",
       "      GEMTUZUMAB_OZOGAMICIN                                   64\n",
       "phsu  Cyclophosphamid                                       1048\n",
       "      CYTARABINE                                             718\n",
       "      RITUXIMAB                                              648\n",
       "      ETOPOSIDE                                              559\n",
       "      METHOTREXATE                                           432\n",
       "      Busulphan                                              416\n",
       "      FLUDARABINE_PHOSPHATE                                  406\n",
       "      MYCOPHENOLATE_MOFETIL                                  359\n",
       "      FLUDARABINE                                            355\n",
       "      MELPHALAN                                              325\n",
       "topp  Peripheral_Blood_Stem_Cell_Transplantation             487\n",
       "      TOTAL_BODY_IRRADIATION                                 344\n",
       "      RADIATION_THERAPY                                      307\n",
       "      Allogeneic_Hematopoietic_Stem_Cell_Transplantation     253\n",
       "      ALLOGENEIC_BONE_MARROW_TRANSPLANTATION                 208\n",
       "      Placebo                                                155\n",
       "      Infusion                                               126\n",
       "      Chemotherapy,_NOS                                      124\n",
       "      Umbilical_Cord_Blood_Transplantation                   122\n",
       "      Therapy                                                118\n",
       "Name: counts, dtype: int64"
      ]
     },
     "execution_count": 6,
     "metadata": {},
     "output_type": "execute_result"
    }
   ],
   "source": [
    "types = ['phsu', 'topp', 'gngm', 'imft']\n",
    "my_df = df.loc[df['type'].isin(types)]\n",
    "names_count = my_df[['type','name']].groupby(['name','type']).size().reset_index(name='counts')\n",
    "agg = names_count.groupby(['type','name']).agg({'counts':sum})\n",
    "df_agg = agg['counts'].groupby('type', group_keys = False)\n",
    "result = df_agg.apply(lambda x: x.sort_values(ascending=False).head(10))\n",
    "result"
   ]
  },
  {
   "cell_type": "code",
   "execution_count": null,
   "id": "53848112",
   "metadata": {},
   "outputs": [],
   "source": []
  },
  {
   "cell_type": "code",
   "execution_count": 7,
   "id": "38cae49b",
   "metadata": {},
   "outputs": [],
   "source": [
    "words = [i for i in my_df['name'] if not isinstance(i, (int,float)) ]"
   ]
  },
  {
   "cell_type": "code",
   "execution_count": 8,
   "id": "224fa227",
   "metadata": {},
   "outputs": [],
   "source": [
    "from gensim import corpora\n",
    "dictionary = corpora.Dictionary([words])\n",
    "corpus = [dictionary.doc2bow(doc) for doc in [words]]\n",
    "\n",
    "dictionary.token2id\n",
    "\n",
    "import gensim\n",
    "k= 4\n",
    "iterations = 3\n",
    "topic_model = gensim.models.ldamodel.LdaModel(corpus, num_topics=k, id2word = dictionary, random_state= 50, chunksize=100,\n",
    "                   alpha='auto',\n",
    "                   per_word_topics=True)"
   ]
  },
  {
   "cell_type": "code",
   "execution_count": 9,
   "id": "0719bf18",
   "metadata": {},
   "outputs": [
    {
     "name": "stderr",
     "output_type": "stream",
     "text": [
      "/Library/Frameworks/Python.framework/Versions/3.10/lib/python3.10/site-packages/pyLDAvis/_prepare.py:247: FutureWarning: In a future version of pandas all arguments of DataFrame.drop except for the argument 'labels' will be keyword-only.\n",
      "  by='saliency', ascending=False).head(R).drop('saliency', 1)\n",
      "/Library/Frameworks/Python.framework/Versions/3.10/lib/python3.10/site-packages/past/builtins/misc.py:45: DeprecationWarning: the imp module is deprecated in favour of importlib and slated for removal in Python 3.12; see the module's documentation for alternative uses\n",
      "  from imp import reload\n",
      "/Library/Frameworks/Python.framework/Versions/3.10/lib/python3.10/site-packages/past/builtins/misc.py:45: DeprecationWarning: the imp module is deprecated in favour of importlib and slated for removal in Python 3.12; see the module's documentation for alternative uses\n",
      "  from imp import reload\n",
      "/Library/Frameworks/Python.framework/Versions/3.10/lib/python3.10/site-packages/past/builtins/misc.py:45: DeprecationWarning: the imp module is deprecated in favour of importlib and slated for removal in Python 3.12; see the module's documentation for alternative uses\n",
      "  from imp import reload\n",
      "/Library/Frameworks/Python.framework/Versions/3.10/lib/python3.10/site-packages/past/builtins/misc.py:45: DeprecationWarning: the imp module is deprecated in favour of importlib and slated for removal in Python 3.12; see the module's documentation for alternative uses\n",
      "  from imp import reload\n",
      "/Library/Frameworks/Python.framework/Versions/3.10/lib/python3.10/site-packages/numpy/distutils/ccompiler.py:17: DeprecationWarning: The distutils.sysconfig module is deprecated, use sysconfig instead\n",
      "  from distutils.sysconfig import customize_compiler\n",
      "/Library/Frameworks/Python.framework/Versions/3.10/lib/python3.10/site-packages/numpy/distutils/ccompiler.py:17: DeprecationWarning: The distutils.sysconfig module is deprecated, use sysconfig instead\n",
      "  from distutils.sysconfig import customize_compiler\n",
      "/Library/Frameworks/Python.framework/Versions/3.10/lib/python3.10/site-packages/numpy/distutils/ccompiler.py:17: DeprecationWarning: The distutils.sysconfig module is deprecated, use sysconfig instead\n",
      "  from distutils.sysconfig import customize_compiler\n",
      "/Library/Frameworks/Python.framework/Versions/3.10/lib/python3.10/site-packages/numpy/distutils/ccompiler.py:17: DeprecationWarning: The distutils.sysconfig module is deprecated, use sysconfig instead\n",
      "  from distutils.sysconfig import customize_compiler\n"
     ]
    },
    {
     "data": {
      "text/html": [
       "\n",
       "<link rel=\"stylesheet\" type=\"text/css\" href=\"https://cdn.jsdelivr.net/gh/bmabey/pyLDAvis@3.3.1/pyLDAvis/js/ldavis.v1.0.0.css\">\n",
       "\n",
       "\n",
       "<div id=\"ldavis_el7642449341888648916137150\"></div>\n",
       "<script type=\"text/javascript\">\n",
       "\n",
       "var ldavis_el7642449341888648916137150_data = {\"mdsDat\": {\"x\": [-0.0017766256247392631, -0.002742202951186256, 0.010205349035519413, -0.005686520459593903], \"y\": [-0.0029181240696482106, -0.000872036897643596, 0.0008795133723813903, 0.0029106475949104123], \"topics\": [1, 2, 3, 4], \"cluster\": [1, 1, 1, 1], \"Freq\": [8.099710130619846, 17.147412757200577, 0.0020310935559818576, 74.7508460186236]}, \"tinfo\": {\"Term\": [\"Cyclophosphamid\", \"RITUXIMAB\", \"CYTARABINE\", \"ETOPOSIDE\", \"Peripheral_Blood_Stem_Cell_Transplantation\", \"METHOTREXATE\", \"Antithymocyte_Globulin\", \"Busulphan\", \"FLUDARABINE\", \"MYCOPHENOLATE_MOFETIL\", \"MELPHALAN\", \"RADIATION_THERAPY\", \"filgrastim\", \"TACROLIMUS\", \"FLUDARABINE_PHOSPHATE\", \"TOTAL_BODY_IRRADIATION\", \"PREDNISONE\", \"Cyclosporin\", \"Allogeneic_Hematopoietic_Stem_Cell_Transplantation\", \"BRENTUXIMAB_VEDOTIN\", \"ALLOGENEIC_BONE_MARROW_TRANSPLANTATION\", \"Therapeutic_Allogeneic_Lymphocytes\", \"DECITABINE\", \"Iphosphamide\", \"Vincristine_sulphate\", \"DEXAMETHASONE\", \"PEMBROLIZUMAB\", \"Azacytidine\", \"Infusion\", \"NIVOLUMAB\", \"Treatment\", \"GLUCARPIDASE\", \"AZD1152\", \"ONO-4059\", \"VINBLASTINE\", \"ALLOPURINOL\", \"FMS_Inhibitor_JNJ-40346527\", \"Melfalan\", \"Consolidation_Chemotherapy\", \"17-N-allylamino-17-demethoxygeldanamycin/bortezomib\", \"RG1507\", \"BONE_MARROW_TRANSPLANT\", \"SR29142\", \"IRINOTECAN_HYDROCHLORIDE\", \"PROCARBAZINE_HYDROCHLORIDE\", \"Sprycel\", \"Monoclonal_Antibody\", \"R-CHOP_Regimen\", \"TALACOTUZUMAB\", \"AC220\", \"OFATUMUMAB\", \"MTX\", \"INDOXIMOD\", \"INCB040093\", \"Vaccinia_Vaccine\", \"EMLA\", \"VATALANIB\", \"Radiation_Treatment\", \"Therapeutic_Surgical_Procedure\", \"Folinic_Acid\", \"CIPROFLOXACIN\", \"Leukovorin\", \"IDARUBICIN\", \"OBINUTUZUMAB\", \"CARMUSTINE\", \"GEMCITABINE\", \"RADIATION_THERAPY\", \"ALLOGENEIC_BONE_MARROW_TRANSPLANTATION\", \"Donor_Lymphocyte_Infusion\", \"POSACONAZOLE\", \"DEXAMETHASONE\", \"RITUXIMAB\", \"Total_Marrow_Irradiation\", \"Leukopheresis\", \"Chemotherapy,_NOS\", \"LENALIDOMIDE\", \"BLINATUMOMAB\", \"Intervention\", \"VORINOSTAT\", \"FLUDARABINE\", \"MIDOSTAURIN\", \"Allogeneic_Hematopoietic_Stem_Cell_Transplantation\", \"CLOFARABINE\", \"filgrastim\", \"ETOPOSIDE\", \"Therapeutic_Allogeneic_Lymphocytes\", \"Vincristine_sulphate\", \"Cyclosporin\", \"Umbilical_Cord_Blood_Transplantation\", \"CYTARABINE\", \"TOTAL_BODY_IRRADIATION\", \"Iphosphamide\", \"Antithymocyte_Globulin\", \"MYCOPHENOLATE_MOFETIL\", \"Peripheral_Blood_Stem_Cell_Transplantation\", \"FLUDARABINE_PHOSPHATE\", \"METHOTREXATE\", \"BRENTUXIMAB_VEDOTIN\", \"Busulphan\", \"Cyclophosphamid\", \"TACROLIMUS\", \"NIVOLUMAB\", \"G_CSF\", \"MELPHALAN\", \"PEMBROLIZUMAB\", \"Placebo\", \"PREDNISONE\", \"CC\", \"IDELALISIB\", \"LEXATUMUMAB\", \"Aciclovir\", \"ATRA\", \"monoclonal_antibody_CD20\", \"Sm-EDTMP\", \"PLX2853\", \"Zarnestra\", \"Allogeneic_Epstein-Barr_Virus-Specific_Cytotoxic_T-Lymphocytes\", \"EPRATUZUMAB\", \"Proleukin\", \"PERTUZUMAB\", \"Ferrous_sulphate\", \"BONE_MARROW_TRANSPLANT\", \"CAT-8015\", \"Chemotherapy,_NOS\", \"MR\", \"Cellular_Therapy\", \"POL6326\", \"fludarabine_monophosphate\", \"BGB-3111\", \"DHAD\", \"IDARUBICIN\", \"INDOXIMOD\", \"ABT-751\", \"CHR_2797\", \"ImmTher\", \"TALOTREXIN\", \"DT2219ARL\", \"Therapeutic_Allogeneic_Lymphocytes\", \"OBLIMERSEN_SODIUM\", \"Iphosphamide\", \"PANOBINOSTAT\", \"Autologous_Hematopoietic_Stem_Cell_Transplantation\", \"OBINUTUZUMAB\", \"HYDROCORTISONE\", \"FLUDARABINE\", \"RITUXIMAB\", \"BORTEZOMIB\", \"IBRITUMOMAB_TIUXETAN\", \"FLUDARABINE_PHOSPHATE\", \"anti-b1\", \"CARMUSTINE\", \"IL2\", \"SORAFENIB\", \"CLOFARABINE\", \"NIVOLUMAB\", \"GEMCITABINE_HYDROCHLORIDE\", \"Peripheral_Blood_Stem_Cell_Transplantation\", \"METHOTREXATE\", \"MITOXANTRONE\", \"sargramostim\", \"TOTAL_BODY_IRRADIATION\", \"CYTARABINE\", \"ALLOGENEIC_BONE_MARROW_TRANSPLANTATION\", \"METHYLPREDNISOLONE\", \"MYCOPHENOLATE_MOFETIL\", \"Antithymocyte_Globulin\", \"filgrastim\", \"ETOPOSIDE\", \"Vincristine_sulphate\", \"MELPHALAN\", \"RADIATION_THERAPY\", \"VINCRISTINE\", \"Cyclophosphamid\", \"Busulphan\", \"Cyclosporin\", \"Allogeneic_Hematopoietic_Stem_Cell_Transplantation\", \"TACROLIMUS\", \"Azacytidine\", \"BRENTUXIMAB_VEDOTIN\", \"PREDNISONE\", \"BGB-3111\", \"Kidrolase\", \"WT1_GENE\", \"BISANTRENE\", \"FORMERLY\", \"Cloretazine\", \"17-N-allylamino-17-demethoxygeldanamycin/bortezomib\", \"DTGM\", \"ONO-4059\", \"peripheral_stem_cell_collection\", \"SR29142\", \"Leukine\", \"MECHLORETHAMINE\", \"RESVERATROL\", \"R-CHOP_Regimen\", \"conditioning_regimen\", \"TCM\", \"CP-868,596-26\", \"APTO-253\", \"Umbilical_Cord_Blood_Stem_Cell_Transplantation\", \"N_NOS\", \"MUC1_Gene\", \"intraoperative_Radiation\", \"Matrix\", \"BTK_Inhibitor_PCI-32765\", \"Vitamin_supplementation\", \"LY2874455\", \"PNK\", \"I_NOS\", \"Thioplex\", \"Folinic_Acid\", \"PLX51107\", \"FLUDARABINE\", \"RADIATION_THERAPY\", \"ATRA\", \"IRINOTECAN_HYDROCHLORIDE\", \"Cyclophosphamid\", \"MYCOPHENOLATE_MOFETIL\", \"CYTARABINE\", \"PANOBINOSTAT\", \"RITUXIMAB\", \"IDARUBICIN\", \"METHOTREXATE\", \"Umbilical_Cord_Blood_Transplantation\", \"OFATUMUMAB\", \"TRETINOIN\", \"Iphosphamide\", \"ETOPOSIDE\", \"Therapeutic_Allogeneic_Lymphocytes\", \"VENETOCLAX\", \"CARMUSTINE\", \"Peripheral_Blood_Stem_Cell_Transplantation\", \"Allogeneic_Hematopoietic_Stem_Cell_Transplantation\", \"MELPHALAN\", \"Busulphan\", \"TACROLIMUS\", \"Antithymocyte_Globulin\", \"ALLOGENEIC_BONE_MARROW_TRANSPLANTATION\", \"PREDNISONE\", \"DECITABINE\", \"ARA-C\", \"LENALIDOMIDE\", \"CLOFARABINE\", \"Cyclosporin\", \"TOTAL_BODY_IRRADIATION\", \"FLUDARABINE_PHOSPHATE\", \"filgrastim\", \"BRENTUXIMAB_VEDOTIN\", \"PEMBROLIZUMAB\", \"NIVOLUMAB\", \"G_CSF\", \"Vincristine_sulphate\", \"Cyclosporine_A\", \"ESHAP\", \"HLA\", \"ALEMTUZUMAB\", \"DARATUMUMAB\", \"Infusion\", \"F-\", \"Vinblastine_sulphate\", \"Low-LET_Photon_Therapy\", \"ARM\", \"PREDNISONE\", \"Cyclophosphamid\", \"Autologous_Bone_Marrow_Transplantation\", \"VITAMIN_D\", \"Maintenance_Therapy\", \"Transfusion\", \"MGCD0103\", \"Intervention,_Educational\", \"Allogeneic_transplantation\", \"AMSACRINE\", \"LINTUZUMAB\", \"AMIFOSTINE\", \"M_Ab\", \"CIXUTUMUMAB\", \"Aminocamptothecin\", \"G100\", \"Tomotherapy\", \"IMATINIB\", \"ASPARAGINASE\", \"Prophylaxis\", \"Thio-Tepa\", \"Placebo\", \"DECITABINE\", \"CARBOPLATIN\", \"Bendamustin\", \"MELPHALAN\", \"Peg-filgrastim\", \"PEMBROLIZUMAB\", \"PLERIXAFOR\", \"Allogeneic\", \"BRENTUXIMAB_VEDOTIN\", \"Busulphan\", \"CYTARABINE\", \"TACROLIMUS\", \"ETOPOSIDE\", \"Antithymocyte_Globulin\", \"Peripheral_Blood_Stem_Cell_Transplantation\", \"Azacytidine\", \"filgrastim\", \"DEXAMETHASONE\", \"METHOTREXATE\", \"MYCOPHENOLATE_MOFETIL\", \"Cyclosporin\", \"TOTAL_BODY_IRRADIATION\", \"RITUXIMAB\", \"FLUDARABINE_PHOSPHATE\", \"Allogeneic_Hematopoietic_Stem_Cell_Transplantation\", \"RADIATION_THERAPY\", \"Vincristine_sulphate\", \"FLUDARABINE\", \"ALLOGENEIC_BONE_MARROW_TRANSPLANTATION\", \"Therapeutic_Allogeneic_Lymphocytes\", \"NIVOLUMAB\"], \"Freq\": [1105.0, 1153.0, 692.0, 535.0, 467.0, 409.0, 454.0, 411.0, 298.0, 335.0, 335.0, 265.0, 399.0, 319.0, 383.0, 327.0, 254.0, 285.0, 232.0, 251.0, 182.0, 171.0, 152.0, 146.0, 199.0, 181.0, 141.0, 167.0, 136.0, 154.0, 2.9857300174995176, 0.7534089888037616, 0.6848970746312583, 0.18188555430326717, 5.2072388625984, 2.457605246856513, 0.1831896287842441, 0.2909634665892209, 0.3799649440882402, 0.18325350583116462, 0.5003815378068557, 1.1238168442522793, 0.18113510938034902, 2.8384784556128055, 2.556693885666891, 0.18349340437705733, 0.18181118062678583, 0.17380981497239656, 0.18339269655124354, 0.8505766162231391, 6.090412341772725, 0.3747481904083678, 0.35548150578925164, 0.2656931086477683, 0.8594980392311657, 0.17578376526716585, 0.17933898936603665, 0.17640028914834635, 0.17506352841927966, 0.25989586429267053, 0.7733848297038735, 1.7583733938081048, 12.547862280604877, 6.166418763997432, 9.942507786348253, 8.204578123907469, 28.03625110698939, 18.798290997322233, 2.875448012197332, 0.8746962473233456, 18.270033373815536, 105.79681970287047, 1.8442146879329877, 2.34690007214115, 10.409672234305528, 11.747001518938122, 5.721278723031874, 3.2813326525376603, 7.771414893936953, 27.477375797777494, 2.8913039900854933, 21.26230645182155, 12.772556351760906, 33.57349648300746, 43.67046725787109, 15.624978888990166, 17.703441204610183, 24.135505080455353, 10.388795876588764, 51.313932310780224, 26.412545738945017, 13.010129174966021, 34.59776243796222, 26.490753462478985, 33.31107584460962, 28.334574377258512, 29.751643636978226, 19.968417091203627, 29.345488505472876, 61.23997272261374, 23.01097828234914, 13.28803184348303, 11.54264419043671, 16.814582169776845, 11.69056799237128, 12.001018017347814, 13.184610788472687, 0.6263384862276666, 3.960441433314179, 1.9373070373052685, 1.3096896977436867, 2.079680011478595, 0.6032718483837519, 0.8662874813215148, 0.586130437683257, 0.5670296502427435, 1.7991678413592969, 3.5215873565297313, 0.362462173598844, 1.4304497068447004, 0.8178138925749823, 2.2481417866345406, 11.39783753625515, 25.523501857868613, 0.7816886829503975, 0.3676182615501376, 0.8117608826138811, 1.7308479950485247, 0.35628542114511336, 0.367567154453401, 27.13973608277021, 0.7278164962944284, 0.569944051278948, 0.5725670061811962, 0.3595596523243589, 0.5678525498794016, 0.801255615355836, 40.41217734426865, 2.6545736418560053, 33.88556699336497, 6.426098159434366, 11.344222543425234, 12.38848085567037, 3.0641656343015233, 64.55688969443774, 231.2747476701627, 25.260594650370297, 8.191243569296754, 76.03511402034924, 2.695284439504242, 18.438906938445857, 4.261308881650877, 10.651293530312302, 27.257313159977475, 30.420153904220314, 9.611617308495997, 82.32028708925942, 72.61461487297382, 12.3800605770491, 17.737301960469576, 56.55293388533057, 109.52624494387473, 33.24487709164343, 22.283368609925468, 56.33512008239781, 72.84668921423847, 64.58763765354198, 82.9626712741549, 35.048482054156565, 54.325071153467675, 43.7556387093321, 23.21508927606668, 144.06038276433978, 62.85459823442807, 46.1984747147063, 38.14002782556993, 47.79739946344592, 28.31184812944676, 35.26650040608299, 34.11063649645035, 7.531752869796666e-05, 7.491189217514663e-05, 7.543071463786007e-05, 7.868369255042427e-05, 7.395477598166208e-05, 7.771427633242273e-05, 7.359576098034175e-05, 7.496352084948397e-05, 7.118192045467245e-05, 7.7740383527318e-05, 7.294354539459984e-05, 7.298218118589628e-05, 7.506019247074594e-05, 7.826310599780512e-05, 7.074658387265283e-05, 7.508539966384728e-05, 7.595228710605493e-05, 7.225405830599514e-05, 7.930171521086833e-05, 7.254153745044104e-05, 7.434516247408503e-05, 7.459402011297724e-05, 7.766045479657162e-05, 7.138187799609462e-05, 7.363289676864832e-05, 7.6133144609406e-05, 7.121084194089158e-05, 7.714919663465e-05, 7.301795268576919e-05, 7.650434534930125e-05, 0.00010346991338408891, 0.00010655164809818005, 0.007620921247531386, 0.006374992364085723, 0.0003068592116466103, 0.0007452141139682147, 0.018279005120310665, 0.006716473730457171, 0.012246213209743995, 0.0008186081459750319, 0.017615868712800846, 0.002530506986785961, 0.007291586648228604, 0.002510805461801644, 0.001309095523638177, 0.0005949535287472688, 0.003061548045282663, 0.008450955359138347, 0.003372474150749888, 0.0017681906101572617, 0.001976632511348018, 0.007432742129586531, 0.004150256501063257, 0.005481741212185787, 0.006285175499344122, 0.005121623465810263, 0.006705728109038479, 0.003233776045718694, 0.004148501526136585, 0.0027538322319286324, 0.001307703749435454, 0.0021962423205134744, 0.00248085225924033, 0.0042193478387794504, 0.004437194673002288, 0.004823153385170988, 0.004865718955729026, 0.003509559223994481, 0.002425519120376215, 0.002420655110681036, 0.002254525636686597, 0.0024580826138547725, 12.64131101530057, 12.206259969159413, 10.508449008202776, 106.25340151963783, 16.565033302659266, 112.24590807175323, 7.7319725671450295, 24.543321056263185, 11.714036535857083, 38.999751000218254, 207.336806623383, 899.7474182414587, 42.839536471392705, 4.018096263460268, 4.71085654241189, 6.3714866820183245, 7.189950555604809, 20.77935463943515, 7.429920848938123, 6.411242158790796, 4.016020555964431, 4.707588407205678, 4.031226638080591, 17.030490203891418, 3.0878283593390856, 3.880780694217236, 6.488410843618932, 12.306969637555458, 32.76653388218744, 13.686788308986475, 104.41686095313877, 128.0368307643389, 121.46548152615036, 90.61696866762381, 83.54797959830566, 264.56085303372305, 73.6415341339791, 111.98214390343725, 109.56970491681658, 44.86624717570188, 196.3829764016434, 319.6425674158369, 531.8364538697826, 248.41104955820975, 409.1794110886665, 346.74865747211226, 352.3096860551234, 129.93871721058534, 301.70572910275257, 139.4064586359437, 307.07055180275296, 252.24253219940087, 215.55157781821478, 244.4702252917668, 816.0051591512935, 279.30324691126873, 172.9926509224751, 193.31146768786428, 146.5590312095319, 206.596416270643, 130.5931013487866, 115.00113532482928, 110.8261241446007], \"Total\": [1105.0, 1153.0, 692.0, 535.0, 467.0, 409.0, 454.0, 411.0, 298.0, 335.0, 335.0, 265.0, 399.0, 319.0, 383.0, 327.0, 254.0, 285.0, 232.0, 251.0, 182.0, 171.0, 152.0, 146.0, 199.0, 181.0, 141.0, 167.0, 136.0, 154.0, 22.10761682215518, 5.58008195317232, 5.232234315561181, 1.400239235041792, 40.283860863339626, 19.018532028740367, 1.4191261902149532, 2.2545140522242173, 2.971034424389038, 1.4456190358208738, 3.9815459503142105, 8.969022218464055, 1.4483084266367938, 22.824087504072807, 20.628339259358924, 1.4852439324897966, 1.4769829132136096, 1.4141837043428258, 1.4924404561002635, 6.927917864068805, 50.373128632574286, 3.1106589619725535, 2.9524305603460506, 2.207928540283781, 7.149774814140722, 1.4632524937142617, 1.4928694839617977, 1.4776577009685905, 1.4681547054253963, 2.182370772734992, 6.525275779503465, 14.987778167822004, 109.33719000616674, 53.71889915000632, 88.11379463202614, 73.43410352571573, 265.10973249654984, 182.63950321379798, 25.98491157317598, 7.540084625537439, 181.04815972555352, 1153.0943423930394, 16.415149736596206, 21.221373486650528, 101.92026912078174, 116.05315596988122, 54.43052915667918, 30.329084874012082, 76.61787057108477, 298.6383026841058, 26.544517652681368, 232.39913545636765, 136.6359791127759, 399.87172895825773, 535.8210005760516, 171.04166403223883, 199.31341255091252, 285.8897769612152, 111.67589703636008, 692.6888773376473, 327.4401421107154, 146.83811360542504, 454.199814852422, 335.0751222180081, 467.948481731122, 383.67775846226164, 409.4441018993532, 251.621403458154, 411.84893933123715, 1105.0660527335326, 319.2245489274706, 154.53673054741472, 130.733408501528, 335.7059880981798, 141.84692073501648, 160.438413140465, 254.63620240983218, 2.2171253714549324, 14.228455111176824, 7.037517338311245, 4.928628752382318, 7.834879568390275, 2.278797337417007, 3.3438914080392874, 2.290068311042776, 2.249798936990201, 7.142896933913711, 14.0083709158578, 1.4432166483959747, 5.697619169187005, 3.2611164353433075, 8.969022218464055, 45.48086225836485, 101.92026912078174, 3.130920721113985, 1.472774353523421, 3.252849226943015, 6.956064223042232, 1.4324253352306262, 1.479690332462754, 109.33719000616674, 2.9524305603460506, 2.3418453410407616, 2.358004281926812, 1.4817222419002107, 2.3415304675386066, 3.305332249464395, 171.04166403223883, 11.083986134559266, 146.83811360542504, 27.266186940982195, 48.717114684376114, 53.71889915000632, 12.888299399185485, 298.6383026841058, 1153.0943423930394, 117.09535299074234, 36.67139301053683, 383.67775846226164, 11.41897321343945, 88.11379463202614, 18.577603255787974, 49.52432188486274, 136.6359791127759, 154.53673054741472, 44.70421038227043, 467.948481731122, 409.4441018993532, 59.410899864433716, 88.51275710694121, 327.4401421107154, 692.6888773376473, 182.63950321379798, 116.92790012186266, 335.0751222180081, 454.199814852422, 399.87172895825773, 535.8210005760516, 199.31341255091252, 335.7059880981798, 265.10973249654984, 124.98900565632358, 1105.0660527335326, 411.84893933123715, 285.8897769612152, 232.39913545636765, 319.2245489274706, 167.70316255592869, 251.621403458154, 254.63620240983218, 1.4324253352306262, 1.451114757048304, 1.4708309190390532, 1.5353342504070289, 1.445890971487628, 1.52254158245491, 1.4456190358208738, 1.4743390091200577, 1.400239235041792, 1.5333987537201166, 1.4483084266367938, 1.4493056857544873, 1.4919472720970741, 1.557647573198687, 1.4141837043428258, 1.5075464557624594, 1.5284737153765175, 1.4545322899036903, 1.5994108413561523, 1.4671072549573438, 1.5040365270485547, 1.511858770434175, 1.5758095397436738, 1.4489503691097063, 1.495377462304859, 1.5480274810894694, 1.450669754211365, 1.5727980702875493, 1.4953427933519934, 1.5702846473341687, 2.182370772734992, 2.291567543148753, 298.6383026841058, 265.10973249654984, 7.834879568390275, 22.824087504072807, 1105.0660527335326, 335.0751222180081, 692.6888773376473, 27.266186940982195, 1153.0943423930394, 109.33719000616674, 409.4441018993532, 111.67589703636008, 50.373128632574286, 19.263972939011428, 146.83811360542504, 535.8210005760516, 171.04166403223883, 76.5069573473587, 88.11379463202614, 467.948481731122, 232.39913545636765, 335.7059880981798, 411.84893933123715, 319.2245489274706, 454.199814852422, 182.63950321379798, 254.63620240983218, 152.50242646159316, 58.81455201734208, 116.05315596988122, 136.6359791127759, 285.8897769612152, 327.4401421107154, 383.67775846226164, 399.87172895825773, 251.621403458154, 141.84692073501648, 154.53673054741472, 130.733408501528, 199.31341255091252, 15.175294675484734, 14.69140805035422, 12.673448580230737, 128.26402438392165, 20.10314821091357, 136.54753284861965, 9.440006764788695, 30.021159968710563, 14.360135926280936, 47.85227505762715, 254.63620240983218, 1105.0660527335326, 52.822021591331165, 4.966423813398087, 5.82854014755097, 7.887072322260773, 8.900395079782202, 25.78435064398569, 9.221712005187648, 7.959804960071251, 4.9868570692214345, 5.849212890982046, 5.015016464721108, 21.212284006044158, 3.8471237171187735, 4.8357692098686895, 8.085341197730209, 15.338815118323282, 40.88259716123469, 17.080420031041008, 130.34850208797997, 160.438413140465, 152.50242646159316, 113.48854937419844, 104.68293059580589, 335.7059880981798, 92.38480603773928, 141.84692073501648, 139.3467977103059, 56.615095861411476, 251.621403458154, 411.84893933123715, 692.6888773376473, 319.2245489274706, 535.8210005760516, 454.199814852422, 467.948481731122, 167.70316255592869, 399.87172895825773, 181.04815972555352, 409.4441018993532, 335.0751222180081, 285.8897769612152, 327.4401421107154, 1153.0943423930394, 383.67775846226164, 232.39913545636765, 265.10973249654984, 199.31341255091252, 298.6383026841058, 182.63950321379798, 171.04166403223883, 154.53673054741472], \"Category\": [\"Default\", \"Default\", \"Default\", \"Default\", \"Default\", \"Default\", \"Default\", \"Default\", \"Default\", \"Default\", \"Default\", \"Default\", \"Default\", \"Default\", \"Default\", \"Default\", \"Default\", \"Default\", \"Default\", \"Default\", \"Default\", \"Default\", \"Default\", \"Default\", \"Default\", \"Default\", \"Default\", \"Default\", \"Default\", \"Default\", \"Topic1\", \"Topic1\", \"Topic1\", \"Topic1\", \"Topic1\", \"Topic1\", \"Topic1\", \"Topic1\", \"Topic1\", \"Topic1\", \"Topic1\", \"Topic1\", \"Topic1\", \"Topic1\", \"Topic1\", \"Topic1\", \"Topic1\", \"Topic1\", \"Topic1\", \"Topic1\", \"Topic1\", \"Topic1\", \"Topic1\", \"Topic1\", \"Topic1\", \"Topic1\", \"Topic1\", \"Topic1\", \"Topic1\", \"Topic1\", \"Topic1\", \"Topic1\", \"Topic1\", \"Topic1\", \"Topic1\", \"Topic1\", \"Topic1\", \"Topic1\", \"Topic1\", \"Topic1\", \"Topic1\", \"Topic1\", \"Topic1\", \"Topic1\", \"Topic1\", \"Topic1\", \"Topic1\", \"Topic1\", \"Topic1\", \"Topic1\", \"Topic1\", \"Topic1\", \"Topic1\", \"Topic1\", \"Topic1\", \"Topic1\", \"Topic1\", \"Topic1\", \"Topic1\", \"Topic1\", \"Topic1\", \"Topic1\", \"Topic1\", \"Topic1\", \"Topic1\", \"Topic1\", \"Topic1\", \"Topic1\", \"Topic1\", \"Topic1\", \"Topic1\", \"Topic1\", \"Topic1\", \"Topic1\", \"Topic1\", \"Topic1\", \"Topic1\", \"Topic2\", \"Topic2\", \"Topic2\", \"Topic2\", \"Topic2\", \"Topic2\", \"Topic2\", \"Topic2\", \"Topic2\", \"Topic2\", \"Topic2\", \"Topic2\", \"Topic2\", \"Topic2\", \"Topic2\", \"Topic2\", \"Topic2\", \"Topic2\", \"Topic2\", \"Topic2\", \"Topic2\", \"Topic2\", \"Topic2\", \"Topic2\", \"Topic2\", \"Topic2\", \"Topic2\", \"Topic2\", \"Topic2\", \"Topic2\", \"Topic2\", \"Topic2\", \"Topic2\", \"Topic2\", \"Topic2\", \"Topic2\", \"Topic2\", \"Topic2\", \"Topic2\", \"Topic2\", \"Topic2\", \"Topic2\", \"Topic2\", \"Topic2\", \"Topic2\", \"Topic2\", \"Topic2\", \"Topic2\", \"Topic2\", \"Topic2\", \"Topic2\", \"Topic2\", \"Topic2\", \"Topic2\", \"Topic2\", \"Topic2\", \"Topic2\", \"Topic2\", \"Topic2\", \"Topic2\", \"Topic2\", \"Topic2\", \"Topic2\", \"Topic2\", \"Topic2\", \"Topic2\", \"Topic2\", \"Topic2\", \"Topic2\", \"Topic2\", \"Topic2\", \"Topic2\", \"Topic2\", \"Topic3\", \"Topic3\", \"Topic3\", \"Topic3\", \"Topic3\", \"Topic3\", \"Topic3\", \"Topic3\", \"Topic3\", \"Topic3\", \"Topic3\", \"Topic3\", \"Topic3\", \"Topic3\", \"Topic3\", \"Topic3\", \"Topic3\", \"Topic3\", \"Topic3\", \"Topic3\", \"Topic3\", \"Topic3\", \"Topic3\", \"Topic3\", \"Topic3\", \"Topic3\", \"Topic3\", \"Topic3\", \"Topic3\", \"Topic3\", \"Topic3\", \"Topic3\", \"Topic3\", \"Topic3\", \"Topic3\", \"Topic3\", \"Topic3\", \"Topic3\", \"Topic3\", \"Topic3\", \"Topic3\", \"Topic3\", \"Topic3\", \"Topic3\", \"Topic3\", \"Topic3\", \"Topic3\", \"Topic3\", \"Topic3\", \"Topic3\", \"Topic3\", \"Topic3\", \"Topic3\", \"Topic3\", \"Topic3\", \"Topic3\", \"Topic3\", \"Topic3\", \"Topic3\", \"Topic3\", \"Topic3\", \"Topic3\", \"Topic3\", \"Topic3\", \"Topic3\", \"Topic3\", \"Topic3\", \"Topic3\", \"Topic3\", \"Topic3\", \"Topic3\", \"Topic3\", \"Topic4\", \"Topic4\", \"Topic4\", \"Topic4\", \"Topic4\", \"Topic4\", \"Topic4\", \"Topic4\", \"Topic4\", \"Topic4\", \"Topic4\", \"Topic4\", \"Topic4\", \"Topic4\", \"Topic4\", \"Topic4\", \"Topic4\", \"Topic4\", \"Topic4\", \"Topic4\", \"Topic4\", \"Topic4\", \"Topic4\", \"Topic4\", \"Topic4\", \"Topic4\", \"Topic4\", \"Topic4\", \"Topic4\", \"Topic4\", \"Topic4\", \"Topic4\", \"Topic4\", \"Topic4\", \"Topic4\", \"Topic4\", \"Topic4\", \"Topic4\", \"Topic4\", \"Topic4\", \"Topic4\", \"Topic4\", \"Topic4\", \"Topic4\", \"Topic4\", \"Topic4\", \"Topic4\", \"Topic4\", \"Topic4\", \"Topic4\", \"Topic4\", \"Topic4\", \"Topic4\", \"Topic4\", \"Topic4\", \"Topic4\", \"Topic4\", \"Topic4\", \"Topic4\", \"Topic4\", \"Topic4\", \"Topic4\", \"Topic4\"], \"logprob\": [30.0, 29.0, 28.0, 27.0, 26.0, 25.0, 24.0, 23.0, 22.0, 21.0, 20.0, 19.0, 18.0, 17.0, 16.0, 15.0, 14.0, 13.0, 12.0, 11.0, 10.0, 9.0, 8.0, 7.0, 6.0, 5.0, 4.0, 3.0, 2.0, 1.0, -6.4856, -7.8625, -7.9579, -9.2838, -5.9294, -6.6802, -9.2766, -8.814, -8.5471, -9.2763, -8.2718, -7.4627, -9.2879, -6.5361, -6.6407, -9.275, -9.2842, -9.3292, -9.2755, -7.7412, -5.7727, -8.5609, -8.6137, -8.9048, -7.7308, -9.3179, -9.2979, -9.3144, -9.322, -8.9269, -7.8364, -7.015, -5.0499, -5.7603, -5.2826, -5.4747, -4.2459, -4.6456, -6.5232, -7.7133, -4.6741, -2.9179, -6.9673, -6.7263, -5.2367, -5.1158, -5.8352, -6.3912, -5.5289, -4.266, -6.5177, -4.5225, -5.0321, -4.0657, -3.8027, -4.8305, -4.7056, -4.3957, -5.2387, -3.6414, -4.3056, -5.0137, -4.0356, -4.3026, -4.0735, -4.2353, -4.1865, -4.5852, -4.2003, -3.4646, -4.4434, -4.9925, -5.1334, -4.7572, -5.1206, -5.0944, -5.0004, -8.7973, -6.9531, -7.6681, -8.0596, -7.5972, -8.8348, -8.473, -8.8636, -8.8968, -7.7421, -7.0705, -9.3443, -7.9714, -8.5305, -7.5193, -5.896, -5.0898, -8.5757, -9.3301, -8.538, -7.7808, -9.3614, -9.3303, -5.0284, -8.6471, -8.8916, -8.887, -9.3523, -8.8953, -8.551, -4.6303, -7.3531, -4.8064, -6.4691, -5.9007, -5.8127, -7.2096, -4.1619, -2.8858, -5.1002, -6.2264, -3.9982, -7.3379, -5.415, -6.8798, -5.9637, -5.0241, -4.9143, -6.0664, -3.9188, -4.0443, -5.8133, -5.4538, -4.2942, -3.6333, -4.8255, -5.2256, -4.2981, -4.0411, -4.1614, -3.911, -4.7727, -4.3344, -4.5508, -5.1846, -3.3592, -4.1886, -4.4965, -4.6882, -4.4624, -4.9861, -4.7665, -4.7998, -8.7822, -8.7876, -8.7807, -8.7385, -8.8004, -8.7509, -8.8053, -8.7869, -8.8387, -8.7505, -8.8142, -8.8137, -8.7856, -8.7438, -8.8448, -8.7853, -8.7738, -8.8237, -8.7306, -8.8197, -8.7952, -8.7918, -8.7516, -8.8359, -8.8048, -8.7714, -8.8383, -8.7582, -8.8132, -8.7666, -8.4646, -8.4353, -4.1653, -4.3438, -7.3775, -6.4902, -3.2904, -4.2916, -3.6909, -6.3963, -3.3273, -5.2677, -4.2094, -5.2755, -5.9268, -6.7154, -5.0772, -4.0619, -4.9805, -5.6262, -5.5148, -4.1903, -4.773, -4.4947, -4.358, -4.5627, -4.2932, -5.0225, -4.7734, -5.1832, -5.9279, -5.4094, -5.2875, -4.7565, -4.7061, -4.6227, -4.6139, -4.9407, -5.3101, -5.3121, -5.3832, -5.2968, -7.2648, -7.2998, -7.4496, -5.1359, -6.9944, -5.081, -7.7564, -6.6013, -7.3409, -6.1382, -4.4674, -2.9996, -6.0443, -8.4109, -8.2519, -7.9499, -7.829, -6.7678, -7.7962, -7.9437, -8.4114, -8.2526, -8.4077, -6.9667, -8.6743, -8.4457, -7.9317, -7.2916, -6.3123, -7.1853, -5.1533, -4.9494, -5.0021, -5.2951, -5.3763, -4.2237, -5.5025, -5.0834, -5.1052, -5.998, -4.5217, -4.0345, -3.5254, -4.2866, -3.7876, -3.9531, -3.9372, -4.9347, -4.0923, -4.8643, -4.0747, -4.2713, -4.4285, -4.3026, -3.0973, -4.1694, -4.6485, -4.5374, -4.8143, -4.471, -4.9296, -5.0568, -5.0938], \"loglift\": [30.0, 29.0, 28.0, 27.0, 26.0, 25.0, 24.0, 23.0, 22.0, 21.0, 20.0, 19.0, 18.0, 17.0, 16.0, 15.0, 14.0, 13.0, 12.0, 11.0, 10.0, 9.0, 8.0, 7.0, 6.0, 5.0, 4.0, 3.0, 2.0, 1.0, 0.5113, 0.511, 0.48, 0.4723, 0.4674, 0.4671, 0.4661, 0.4658, 0.4568, 0.4479, 0.4393, 0.4363, 0.4344, 0.4288, 0.4254, 0.4222, 0.4186, 0.417, 0.4168, 0.4159, 0.4006, 0.397, 0.3964, 0.3959, 0.3949, 0.3942, 0.3942, 0.3879, 0.3867, 0.3855, 0.3807, 0.3705, 0.3485, 0.3487, 0.3315, 0.3216, 0.2667, 0.2396, 0.312, 0.3592, 0.2198, 0.1247, 0.3272, 0.3114, 0.2319, 0.2229, 0.2606, 0.2895, 0.225, 0.1275, 0.2962, 0.1218, 0.1433, 0.0359, 0.0062, 0.1203, 0.0922, 0.0414, 0.1385, -0.0893, -0.0041, 0.0897, -0.0614, -0.0242, -0.1291, -0.0924, -0.1086, -0.0204, -0.1282, -0.3795, -0.1166, 0.0598, 0.0862, -0.4806, 0.0174, -0.0796, -0.4474, 0.4992, 0.4844, 0.4734, 0.4381, 0.437, 0.4343, 0.4126, 0.4005, 0.3851, 0.3845, 0.3826, 0.3816, 0.3813, 0.3801, 0.3797, 0.3795, 0.3787, 0.3757, 0.3755, 0.3752, 0.3723, 0.3719, 0.3706, 0.3699, 0.363, 0.3502, 0.3479, 0.3472, 0.3466, 0.3462, 0.3205, 0.3341, 0.297, 0.318, 0.306, 0.2963, 0.3268, 0.2316, 0.1567, 0.2296, 0.2644, 0.1447, 0.3196, 0.1992, 0.2909, 0.2265, 0.1513, 0.138, 0.2262, 0.0256, 0.0337, 0.1949, 0.1558, 0.0072, -0.0811, 0.0597, 0.1056, -0.0197, -0.0669, -0.0598, -0.1021, 0.0252, -0.0579, -0.0382, 0.0799, -0.2741, -0.1165, -0.0593, -0.0439, -0.1356, -0.0156, -0.2017, -0.2469, 0.9512, 0.9328, 0.9262, 0.9255, 0.9236, 0.9215, 0.9189, 0.9176, 0.9174, 0.9147, 0.9081, 0.908, 0.907, 0.9057, 0.9014, 0.897, 0.8947, 0.8943, 0.8925, 0.8897, 0.8894, 0.8876, 0.8864, 0.886, 0.8856, 0.8843, 0.8825, 0.8817, 0.8772, 0.8749, 0.8477, 0.8282, 0.2283, 0.1688, 0.6566, 0.4747, -0.2053, -0.0132, -0.1388, 0.3908, -0.2848, 0.1306, -0.1315, 0.1016, 0.2465, 0.4191, 0.0262, -0.2529, -0.0297, 0.1292, 0.0994, -0.2459, -0.1287, -0.2182, -0.2859, -0.2358, -0.319, -0.1373, -0.2205, -0.1176, 0.0905, -0.0707, -0.1121, -0.3193, -0.4047, -0.4798, -0.5123, -0.3758, -0.1721, -0.2598, -0.1636, -0.4989, 0.1083, 0.1057, 0.1037, 0.1027, 0.0974, 0.095, 0.0914, 0.0895, 0.0873, 0.0864, 0.0855, 0.0855, 0.0815, 0.0791, 0.0781, 0.0776, 0.0776, 0.0752, 0.075, 0.0747, 0.0745, 0.0739, 0.0726, 0.0714, 0.0712, 0.071, 0.071, 0.0708, 0.0697, 0.0695, 0.0692, 0.0654, 0.0635, 0.0659, 0.0655, 0.0528, 0.0643, 0.0546, 0.0506, 0.0584, 0.0432, 0.0376, 0.0268, 0.0402, 0.0214, 0.0211, 0.0072, 0.0359, 0.0093, 0.0296, 0.0033, 0.007, 0.0086, -0.0012, -0.0548, -0.0265, -0.0042, -0.0248, -0.0164, -0.0775, -0.0444, -0.106, -0.0415]}, \"token.table\": {\"Topic\": [4, 2, 4, 1, 2, 4, 1, 2, 4, 1, 2, 4, 1, 2, 4, 2, 4, 2, 4, 4, 1, 2, 4, 1, 2, 4, 1, 2, 4, 1, 2, 4, 1, 2, 4, 2, 4, 1, 2, 4, 1, 2, 4, 1, 2, 4, 1, 2, 4, 4, 1, 2, 4, 1, 2, 4, 1, 2, 4, 1, 2, 4, 4, 4, 1, 2, 4, 1, 2, 4, 1, 2, 4, 1, 2, 4, 4, 1, 2, 4, 1, 2, 4, 1, 2, 4, 1, 2, 4, 1, 2, 4, 2, 4, 2, 4, 1, 2, 4, 1, 2, 4, 1, 2, 4, 4, 1, 2, 4, 4, 1, 2, 4, 4, 2, 4, 1, 2, 4, 1, 2, 4, 1, 2, 4, 1, 2, 4, 1, 2, 4, 1, 2, 4, 4, 2, 4, 4, 1, 2, 4, 4, 1, 2, 4, 1, 2, 4, 1, 2, 4, 1, 2, 4, 1, 2, 4, 1, 2, 4, 4, 4, 2, 4, 4, 2, 4, 1, 2, 4, 1, 2, 4, 1, 2, 4, 1, 2, 4, 1, 2, 4, 1, 2, 4, 1, 2, 4, 1, 2, 4, 1, 2, 4, 1, 2, 4, 1, 2, 4, 4, 2, 4, 1, 2, 4, 4, 4, 1, 2, 4, 1, 2, 4, 1, 2, 4, 1, 2, 4, 4, 1, 2, 4, 1, 2, 4, 2, 4, 4, 4, 1, 2, 4, 1, 2, 4, 1, 2, 4, 4, 1, 2, 4, 1, 2, 4, 1, 2, 4, 1, 2, 4, 1, 2, 4, 1, 2, 4, 2, 4, 2, 4, 4, 1, 2, 4, 2, 4, 2, 4, 4, 4, 4, 1, 2, 4, 4, 1, 2, 4, 1, 2, 4, 1, 2, 4, 4, 1, 2, 4, 1, 2, 4, 2, 4, 1, 2, 4, 2, 4, 4, 4, 2, 4, 1, 2, 4, 1, 2, 4, 1, 2, 4, 1, 2, 4, 1, 2, 4, 1, 2, 4, 4, 1, 2, 4, 4, 1, 2, 4, 4, 1, 2, 4, 1, 2, 4, 4, 1, 2, 4, 4, 2, 4, 4, 1, 2, 4, 4, 2, 4, 4, 1, 2, 4, 1, 2, 4, 1, 2, 4, 4, 1, 2, 4, 4, 2, 4, 1, 2, 4, 1, 2, 4, 1, 2, 4, 4, 1, 2, 4, 4, 1, 2, 4, 1, 2, 4, 1, 2, 4, 2, 4, 1, 2, 4, 1, 2, 4, 1, 2, 4, 1, 2, 4, 4, 4, 2, 4, 1, 2, 4, 4, 1, 2, 4, 1, 2, 4, 4, 2, 4, 4, 1, 2, 4], \"Freq\": [0.6917451798994639, 0.42701368125171774, 0.8540273625034355, 0.14434351267159717, 0.14434351267159717, 0.7217175633579859, 0.062371347214666285, 0.109149857625666, 0.8264203505943283, 0.10403006833498984, 0.18068380289761393, 0.7172599448359825, 0.10516058741955721, 0.21032117483911442, 0.6835438182271218, 0.17096317378732068, 0.8548158689366034, 0.12563121898291446, 0.7537873138974868, 0.6252302248696104, 0.08501297431502493, 0.18702854349305484, 0.7311115791092144, 0.08359059198717118, 0.10448823998396399, 0.8150082718749191, 0.048920571071165236, 0.1467617132134957, 0.8071894226742264, 0.12763438049954048, 0.25526876099908097, 0.6381719024977025, 0.19112293901400812, 0.19112293901400812, 0.5733688170420244, 0.20289619085564858, 0.6086885725669458, 0.0529894006952443, 0.1589682020857329, 0.7948410104286645, 0.1399992200996359, 0.2799984401992718, 0.6999961004981794, 0.0903617819350395, 0.16351179588245243, 0.7444089654648492, 0.10843973433972487, 0.10843973433972487, 0.7590781403780741, 0.7798033597543855, 0.07705859592076707, 0.16072221434902845, 0.7639809367001763, 0.0567944942208032, 0.13252048651520748, 0.814054417164846, 0.08210666879421792, 0.2257933391840993, 0.6773800175522978, 0.0536662509092428, 0.16696166949542202, 0.7751791798001737, 0.698116666471133, 0.6513239704871381, 0.11023225555512975, 0.20209246851773788, 0.6981376185158217, 0.11149487376019122, 0.22298974752038245, 0.6689692425611473, 0.04270024277048214, 0.2135012138524107, 0.7344441756522928, 0.07948449426451955, 0.1390978649629092, 0.7789480437922915, 0.6687274786518966, 0.07642124608537201, 0.13373718064940102, 0.802423083896406, 0.0704141670173787, 0.1529687076584434, 0.7769839119159029, 0.07049169316300025, 0.13217192468062547, 0.8018430097291278, 0.11348960786175659, 0.20428129415116186, 0.6809376471705396, 0.08794908014885577, 0.2418599704093534, 0.6596181011164183, 0.451034484957328, 0.451034484957328, 0.42408744024114464, 0.8481748804822893, 0.15325022785107392, 0.15325022785107392, 0.7662511392553696, 0.04714249534444585, 0.14142748603333757, 0.8014224208555796, 0.09514331499224027, 0.19760534652234515, 0.7099155041728696, 0.6875062224065259, 0.07362612807645869, 0.15880145271393048, 0.7680215713073729, 0.678990639406254, 0.09811591046869578, 0.25510136721860904, 0.6475650090933921, 0.656796511519655, 0.3365831078196408, 0.6731662156392816, 0.055200320242494216, 0.1303089527035929, 0.8144309543974556, 0.08394843724424579, 0.16090117138480442, 0.755535935198212, 0.0658965787079886, 0.1317931574159772, 0.8566555232038517, 0.04974345259301831, 0.09948690518603662, 0.8456386940813112, 0.05245818171958564, 0.15081727244380871, 0.7934299985087329, 0.09942106027084595, 0.12703802145719204, 0.7677515209804214, 0.6758170801424571, 0.3025414465253963, 0.6050828930507925, 0.678270054454327, 0.11545161474002769, 0.1539354863200369, 0.7696774316001845, 0.6834090522966682, 0.07138588819546296, 0.28554355278185184, 0.6424729937591667, 0.06806699511527688, 0.06806699511527688, 0.8168039413833225, 0.08211697554350499, 0.15490247659342987, 0.7633146135748532, 0.10593212747791754, 0.10593212747791754, 0.8474570198233403, 0.0904103718690101, 0.2176545989439132, 0.6931461843290774, 0.07297790758635822, 0.19808289202011517, 0.7271727220212123, 0.7046589703545189, 0.691615080057616, 0.30664345166035967, 0.6132869033207193, 0.45821728025929315, 0.20679233367035604, 0.8271693346814242, 0.10894120872870053, 0.16341181309305078, 0.7353531589187285, 0.08947703059276915, 0.2236925764819229, 0.7158162447421532, 0.179208837503093, 0.179208837503093, 0.716835350012372, 0.09178985033393162, 0.18357970066786325, 0.734318802671453, 0.07890512149628287, 0.15781024299256574, 0.8679563364591116, 0.07758975556256849, 0.23276926668770545, 0.6983078000631163, 0.08180763679029064, 0.2181536981074417, 0.7089995188491856, 0.11889824495459217, 0.24694250875184529, 0.6402213189862656, 0.07028169904506876, 0.28112679618027503, 0.6325352914056189, 0.053828256865612815, 0.21531302746245126, 0.6997673392529666, 0.06519408391626225, 0.1303881678325245, 0.7823290069951468, 0.4529132088085929, 0.3387039862786108, 0.6774079725572216, 0.13144008493065362, 0.17525344657420483, 0.7010137862968193, 0.6687429828436715, 0.6748903213584525, 0.05126419975497025, 0.13182222794135207, 0.820227196079524, 0.09891495284022214, 0.13188660378696287, 0.7583479717750364, 0.07756642886279196, 0.11634964329418794, 0.8144475030593156, 0.08853287256830918, 0.23154751287096245, 0.6810220966793014, 0.6891253742289056, 0.10340089332093914, 0.16371808109148697, 0.7324229943566523, 0.1420955646611543, 0.2841911293223086, 0.5683822586446172, 0.20052710276617644, 0.8021084110647058, 0.6893367681355121, 0.6899855633143499, 0.09424460679974912, 0.18848921359949825, 0.7068345509981184, 0.13344206043120507, 0.13344206043120507, 0.7339313323716279, 0.0696372238489657, 0.1392744476979314, 0.8356466861875884, 0.6702649743073056, 0.050639549494804426, 0.1608550395717317, 0.7893812127131278, 0.07327007486695802, 0.17829051550959787, 0.7497970994718705, 0.07697050909680384, 0.1881501333477427, 0.7269436970253695, 0.1123545630318773, 0.1123545630318773, 0.7864819412231411, 0.11301768746575654, 0.18836281244292755, 0.7157786872831247, 0.10099156911763753, 0.20198313823527506, 0.6901090556371898, 0.31939486466594363, 0.6387897293318873, 0.3214752926067706, 0.6429505852135412, 0.6614374434675669, 0.0775945400777434, 0.16712670170590888, 0.7520701576765899, 0.19940113996327855, 0.7976045598531142, 0.1715695482375941, 0.8578477411879706, 0.6901547639719644, 0.8871091302477696, 0.6770559029855034, 0.08412239571751105, 0.1941286055019486, 0.7182758403572098, 0.6648774694071755, 0.11169253456302992, 0.22338506912605985, 0.6515397849510078, 0.0902202499949052, 0.2706607499847156, 0.7217619999592416, 0.11911112457922735, 0.1985185409653789, 0.6749630392822883, 0.7141636764450138, 0.0733509237770947, 0.22005277133128412, 0.6968337758823997, 0.08459824110258368, 0.12689736165387552, 0.7895835836241143, 0.17551190599190053, 0.7020476239676021, 0.05741072009872481, 0.15787948027149323, 0.7893974013574662, 0.43666819682974994, 0.43666819682974994, 0.8727650232171984, 0.6358095288209334, 0.3074227946740055, 0.614845589348011, 0.13262450617770385, 0.13262450617770385, 0.6631225308885194, 0.051053227612453726, 0.1335238260633405, 0.8129244704444555, 0.1454309996690074, 0.1454309996690074, 0.7271549983450369, 0.06494574440681289, 0.1407157795480946, 0.8009975143506923, 0.07052058354355648, 0.1752329651688373, 0.7522195577979357, 0.07479505540542783, 0.12465842567571304, 0.7978139243245636, 0.6928966632358515, 0.05854656959153554, 0.11709313918307108, 0.8196519742814975, 0.7071217105168823, 0.10561664310217052, 0.16596901058912508, 0.7280004328113896, 0.6419937457010657, 0.2511587238924326, 0.2511587238924326, 0.7534761716772979, 0.09192656325068434, 0.20033052934818946, 0.7076610906845134, 0.6767467183668515, 0.060576296369581575, 0.22211308668846577, 0.726915556434979, 0.6904606654275717, 0.29905277354277376, 0.5981055470855475, 0.6732900758757147, 0.07204959667818565, 0.15036437567621355, 0.7768826076604366, 0.6700434820783356, 0.4270711032221545, 0.854142206444309, 0.6542474299295781, 0.0794038257875199, 0.17407761807263977, 0.7451743650828789, 0.10382074384821235, 0.15573111577231855, 0.7786555788615926, 0.09354445941887139, 0.2338611485471785, 0.6723508020731381, 0.6811271293853539, 0.046030448404771405, 0.1534348280159047, 0.7978611056827044, 0.6368272158157273, 0.12368061848530637, 0.7420837109118382, 0.12183866928372679, 0.1827580039255902, 0.6701126810604974, 0.12678975913249357, 0.12678975913249357, 0.7607385547949613, 0.13569983703505958, 0.18093311604674614, 0.678499185175298, 0.681613424390758, 0.08954483702731433, 0.15222622294643437, 0.7611311147321719, 0.6698509218275305, 0.078424240200256, 0.14377777370046935, 0.78424240200256, 0.12411918552102477, 0.19859069683363964, 0.6702436018135337, 0.08800774069877942, 0.18401618509744788, 0.7280640366899025, 0.2013521273199171, 0.8054085092796684, 0.10441428273026376, 0.1696732094366786, 0.7308999791118463, 0.13986454482765168, 0.13986454482765168, 0.6993227241382585, 0.06661967765684244, 0.1332393553136849, 0.8327459707105306, 0.09031002866102696, 0.17560283350755243, 0.7375319007317201, 0.645983364130087, 0.6798878015518848, 0.44448416414393366, 0.44448416414393366, 0.08757354810352472, 0.2627206443105742, 0.7005883848281977, 0.6633294756374444, 0.08502726634007485, 0.16255212682661369, 0.755242189255959, 0.14375945476286162, 0.28751890952572323, 0.5750378190514465, 0.6345944575019283, 0.4388279657784266, 0.4388279657784266, 0.6521460889243196, 0.09038245176719997, 0.20336051647619993, 0.7117618076666997], \"Term\": [\"17-N-allylamino-17-demethoxygeldanamycin/bortezomib\", \"ABT-751\", \"ABT-751\", \"AC220\", \"AC220\", \"AC220\", \"ALEMTUZUMAB\", \"ALEMTUZUMAB\", \"ALEMTUZUMAB\", \"ALLOGENEIC_BONE_MARROW_TRANSPLANTATION\", \"ALLOGENEIC_BONE_MARROW_TRANSPLANTATION\", \"ALLOGENEIC_BONE_MARROW_TRANSPLANTATION\", \"ALLOPURINOL\", \"ALLOPURINOL\", \"ALLOPURINOL\", \"AMIFOSTINE\", \"AMIFOSTINE\", \"AMSACRINE\", \"AMSACRINE\", \"APTO-253\", \"ARA-C\", \"ARA-C\", \"ARA-C\", \"ARM\", \"ARM\", \"ARM\", \"ASPARAGINASE\", \"ASPARAGINASE\", \"ASPARAGINASE\", \"ATRA\", \"ATRA\", \"ATRA\", \"AZD1152\", \"AZD1152\", \"AZD1152\", \"Aciclovir\", \"Aciclovir\", \"Allogeneic\", \"Allogeneic\", \"Allogeneic\", \"Allogeneic_Epstein-Barr_Virus-Specific_Cytotoxic_T-Lymphocytes\", \"Allogeneic_Epstein-Barr_Virus-Specific_Cytotoxic_T-Lymphocytes\", \"Allogeneic_Epstein-Barr_Virus-Specific_Cytotoxic_T-Lymphocytes\", \"Allogeneic_Hematopoietic_Stem_Cell_Transplantation\", \"Allogeneic_Hematopoietic_Stem_Cell_Transplantation\", \"Allogeneic_Hematopoietic_Stem_Cell_Transplantation\", \"Allogeneic_transplantation\", \"Allogeneic_transplantation\", \"Allogeneic_transplantation\", \"Aminocamptothecin\", \"Antithymocyte_Globulin\", \"Antithymocyte_Globulin\", \"Antithymocyte_Globulin\", \"Autologous_Bone_Marrow_Transplantation\", \"Autologous_Bone_Marrow_Transplantation\", \"Autologous_Bone_Marrow_Transplantation\", \"Autologous_Hematopoietic_Stem_Cell_Transplantation\", \"Autologous_Hematopoietic_Stem_Cell_Transplantation\", \"Autologous_Hematopoietic_Stem_Cell_Transplantation\", \"Azacytidine\", \"Azacytidine\", \"Azacytidine\", \"BGB-3111\", \"BISANTRENE\", \"BLINATUMOMAB\", \"BLINATUMOMAB\", \"BLINATUMOMAB\", \"BONE_MARROW_TRANSPLANT\", \"BONE_MARROW_TRANSPLANT\", \"BONE_MARROW_TRANSPLANT\", \"BORTEZOMIB\", \"BORTEZOMIB\", \"BORTEZOMIB\", \"BRENTUXIMAB_VEDOTIN\", \"BRENTUXIMAB_VEDOTIN\", \"BRENTUXIMAB_VEDOTIN\", \"BTK_Inhibitor_PCI-32765\", \"Bendamustin\", \"Bendamustin\", \"Bendamustin\", \"Busulphan\", \"Busulphan\", \"Busulphan\", \"CARBOPLATIN\", \"CARBOPLATIN\", \"CARBOPLATIN\", \"CARMUSTINE\", \"CARMUSTINE\", \"CARMUSTINE\", \"CAT-8015\", \"CAT-8015\", \"CAT-8015\", \"CC\", \"CC\", \"CHR_2797\", \"CHR_2797\", \"CIPROFLOXACIN\", \"CIPROFLOXACIN\", \"CIPROFLOXACIN\", \"CIXUTUMUMAB\", \"CIXUTUMUMAB\", \"CIXUTUMUMAB\", \"CLOFARABINE\", \"CLOFARABINE\", \"CLOFARABINE\", \"CP-868,596-26\", \"CYTARABINE\", \"CYTARABINE\", \"CYTARABINE\", \"Cellular_Therapy\", \"Chemotherapy,_NOS\", \"Chemotherapy,_NOS\", \"Chemotherapy,_NOS\", \"Cloretazine\", \"Consolidation_Chemotherapy\", \"Consolidation_Chemotherapy\", \"Cyclophosphamid\", \"Cyclophosphamid\", \"Cyclophosphamid\", \"Cyclosporin\", \"Cyclosporin\", \"Cyclosporin\", \"Cyclosporine_A\", \"Cyclosporine_A\", \"Cyclosporine_A\", \"DARATUMUMAB\", \"DARATUMUMAB\", \"DARATUMUMAB\", \"DECITABINE\", \"DECITABINE\", \"DECITABINE\", \"DEXAMETHASONE\", \"DEXAMETHASONE\", \"DEXAMETHASONE\", \"DHAD\", \"DT2219ARL\", \"DT2219ARL\", \"DTGM\", \"Donor_Lymphocyte_Infusion\", \"Donor_Lymphocyte_Infusion\", \"Donor_Lymphocyte_Infusion\", \"EMLA\", \"EPRATUZUMAB\", \"EPRATUZUMAB\", \"EPRATUZUMAB\", \"ESHAP\", \"ESHAP\", \"ESHAP\", \"ETOPOSIDE\", \"ETOPOSIDE\", \"ETOPOSIDE\", \"F-\", \"F-\", \"F-\", \"FLUDARABINE\", \"FLUDARABINE\", \"FLUDARABINE\", \"FLUDARABINE_PHOSPHATE\", \"FLUDARABINE_PHOSPHATE\", \"FLUDARABINE_PHOSPHATE\", \"FMS_Inhibitor_JNJ-40346527\", \"FORMERLY\", \"Ferrous_sulphate\", \"Ferrous_sulphate\", \"Folinic_Acid\", \"G100\", \"G100\", \"GEMCITABINE\", \"GEMCITABINE\", \"GEMCITABINE\", \"GEMCITABINE_HYDROCHLORIDE\", \"GEMCITABINE_HYDROCHLORIDE\", \"GEMCITABINE_HYDROCHLORIDE\", \"GLUCARPIDASE\", \"GLUCARPIDASE\", \"GLUCARPIDASE\", \"G_CSF\", \"G_CSF\", \"G_CSF\", \"HLA\", \"HLA\", \"HLA\", \"HYDROCORTISONE\", \"HYDROCORTISONE\", \"HYDROCORTISONE\", \"IBRITUMOMAB_TIUXETAN\", \"IBRITUMOMAB_TIUXETAN\", \"IBRITUMOMAB_TIUXETAN\", \"IDARUBICIN\", \"IDARUBICIN\", \"IDARUBICIN\", \"IDELALISIB\", \"IDELALISIB\", \"IDELALISIB\", \"IL2\", \"IL2\", \"IL2\", \"IMATINIB\", \"IMATINIB\", \"IMATINIB\", \"INCB040093\", \"INDOXIMOD\", \"INDOXIMOD\", \"IRINOTECAN_HYDROCHLORIDE\", \"IRINOTECAN_HYDROCHLORIDE\", \"IRINOTECAN_HYDROCHLORIDE\", \"I_NOS\", \"ImmTher\", \"Infusion\", \"Infusion\", \"Infusion\", \"Intervention\", \"Intervention\", \"Intervention\", \"Intervention,_Educational\", \"Intervention,_Educational\", \"Intervention,_Educational\", \"Iphosphamide\", \"Iphosphamide\", \"Iphosphamide\", \"Kidrolase\", \"LENALIDOMIDE\", \"LENALIDOMIDE\", \"LENALIDOMIDE\", \"LEXATUMUMAB\", \"LEXATUMUMAB\", \"LEXATUMUMAB\", \"LINTUZUMAB\", \"LINTUZUMAB\", \"LY2874455\", \"Leukine\", \"Leukopheresis\", \"Leukopheresis\", \"Leukopheresis\", \"Leukovorin\", \"Leukovorin\", \"Leukovorin\", \"Low-LET_Photon_Therapy\", \"Low-LET_Photon_Therapy\", \"Low-LET_Photon_Therapy\", \"MECHLORETHAMINE\", \"MELPHALAN\", \"MELPHALAN\", \"MELPHALAN\", \"METHOTREXATE\", \"METHOTREXATE\", \"METHOTREXATE\", \"METHYLPREDNISOLONE\", \"METHYLPREDNISOLONE\", \"METHYLPREDNISOLONE\", \"MGCD0103\", \"MGCD0103\", \"MGCD0103\", \"MIDOSTAURIN\", \"MIDOSTAURIN\", \"MIDOSTAURIN\", \"MITOXANTRONE\", \"MITOXANTRONE\", \"MITOXANTRONE\", \"MR\", \"MR\", \"MTX\", \"MTX\", \"MUC1_Gene\", \"MYCOPHENOLATE_MOFETIL\", \"MYCOPHENOLATE_MOFETIL\", \"MYCOPHENOLATE_MOFETIL\", \"M_Ab\", \"M_Ab\", \"Maintenance_Therapy\", \"Maintenance_Therapy\", \"Matrix\", \"Melfalan\", \"Monoclonal_Antibody\", \"NIVOLUMAB\", \"NIVOLUMAB\", \"NIVOLUMAB\", \"N_NOS\", \"OBINUTUZUMAB\", \"OBINUTUZUMAB\", \"OBINUTUZUMAB\", \"OBLIMERSEN_SODIUM\", \"OBLIMERSEN_SODIUM\", \"OBLIMERSEN_SODIUM\", \"OFATUMUMAB\", \"OFATUMUMAB\", \"OFATUMUMAB\", \"ONO-4059\", \"PANOBINOSTAT\", \"PANOBINOSTAT\", \"PANOBINOSTAT\", \"PEMBROLIZUMAB\", \"PEMBROLIZUMAB\", \"PEMBROLIZUMAB\", \"PERTUZUMAB\", \"PERTUZUMAB\", \"PLERIXAFOR\", \"PLERIXAFOR\", \"PLERIXAFOR\", \"PLX2853\", \"PLX2853\", \"PLX51107\", \"PNK\", \"POL6326\", \"POL6326\", \"POSACONAZOLE\", \"POSACONAZOLE\", \"POSACONAZOLE\", \"PREDNISONE\", \"PREDNISONE\", \"PREDNISONE\", \"PROCARBAZINE_HYDROCHLORIDE\", \"PROCARBAZINE_HYDROCHLORIDE\", \"PROCARBAZINE_HYDROCHLORIDE\", \"Peg-filgrastim\", \"Peg-filgrastim\", \"Peg-filgrastim\", \"Peripheral_Blood_Stem_Cell_Transplantation\", \"Peripheral_Blood_Stem_Cell_Transplantation\", \"Peripheral_Blood_Stem_Cell_Transplantation\", \"Placebo\", \"Placebo\", \"Placebo\", \"Proleukin\", \"Prophylaxis\", \"Prophylaxis\", \"Prophylaxis\", \"R-CHOP_Regimen\", \"RADIATION_THERAPY\", \"RADIATION_THERAPY\", \"RADIATION_THERAPY\", \"RESVERATROL\", \"RG1507\", \"RG1507\", \"RG1507\", \"RITUXIMAB\", \"RITUXIMAB\", \"RITUXIMAB\", \"Radiation_Treatment\", \"SORAFENIB\", \"SORAFENIB\", \"SORAFENIB\", \"SR29142\", \"Sm-EDTMP\", \"Sm-EDTMP\", \"Sprycel\", \"TACROLIMUS\", \"TACROLIMUS\", \"TACROLIMUS\", \"TALACOTUZUMAB\", \"TALOTREXIN\", \"TALOTREXIN\", \"TCM\", \"TOTAL_BODY_IRRADIATION\", \"TOTAL_BODY_IRRADIATION\", \"TOTAL_BODY_IRRADIATION\", \"TRETINOIN\", \"TRETINOIN\", \"TRETINOIN\", \"Therapeutic_Allogeneic_Lymphocytes\", \"Therapeutic_Allogeneic_Lymphocytes\", \"Therapeutic_Allogeneic_Lymphocytes\", \"Therapeutic_Surgical_Procedure\", \"Thio-Tepa\", \"Thio-Tepa\", \"Thio-Tepa\", \"Thioplex\", \"Tomotherapy\", \"Tomotherapy\", \"Total_Marrow_Irradiation\", \"Total_Marrow_Irradiation\", \"Total_Marrow_Irradiation\", \"Transfusion\", \"Transfusion\", \"Transfusion\", \"Treatment\", \"Treatment\", \"Treatment\", \"Umbilical_Cord_Blood_Stem_Cell_Transplantation\", \"Umbilical_Cord_Blood_Transplantation\", \"Umbilical_Cord_Blood_Transplantation\", \"Umbilical_Cord_Blood_Transplantation\", \"VATALANIB\", \"VENETOCLAX\", \"VENETOCLAX\", \"VENETOCLAX\", \"VINBLASTINE\", \"VINBLASTINE\", \"VINBLASTINE\", \"VINCRISTINE\", \"VINCRISTINE\", \"VINCRISTINE\", \"VITAMIN_D\", \"VITAMIN_D\", \"VORINOSTAT\", \"VORINOSTAT\", \"VORINOSTAT\", \"Vaccinia_Vaccine\", \"Vaccinia_Vaccine\", \"Vaccinia_Vaccine\", \"Vinblastine_sulphate\", \"Vinblastine_sulphate\", \"Vinblastine_sulphate\", \"Vincristine_sulphate\", \"Vincristine_sulphate\", \"Vincristine_sulphate\", \"Vitamin_supplementation\", \"WT1_GENE\", \"Zarnestra\", \"Zarnestra\", \"anti-b1\", \"anti-b1\", \"anti-b1\", \"conditioning_regimen\", \"filgrastim\", \"filgrastim\", \"filgrastim\", \"fludarabine_monophosphate\", \"fludarabine_monophosphate\", \"fludarabine_monophosphate\", \"intraoperative_Radiation\", \"monoclonal_antibody_CD20\", \"monoclonal_antibody_CD20\", \"peripheral_stem_cell_collection\", \"sargramostim\", \"sargramostim\", \"sargramostim\"]}, \"R\": 30, \"lambda.step\": 0.01, \"plot.opts\": {\"xlab\": \"PC1\", \"ylab\": \"PC2\"}, \"topic.order\": [1, 2, 3, 4]};\n",
       "\n",
       "function LDAvis_load_lib(url, callback){\n",
       "  var s = document.createElement('script');\n",
       "  s.src = url;\n",
       "  s.async = true;\n",
       "  s.onreadystatechange = s.onload = callback;\n",
       "  s.onerror = function(){console.warn(\"failed to load library \" + url);};\n",
       "  document.getElementsByTagName(\"head\")[0].appendChild(s);\n",
       "}\n",
       "\n",
       "if(typeof(LDAvis) !== \"undefined\"){\n",
       "   // already loaded: just create the visualization\n",
       "   !function(LDAvis){\n",
       "       new LDAvis(\"#\" + \"ldavis_el7642449341888648916137150\", ldavis_el7642449341888648916137150_data);\n",
       "   }(LDAvis);\n",
       "}else if(typeof define === \"function\" && define.amd){\n",
       "   // require.js is available: use it to load d3/LDAvis\n",
       "   require.config({paths: {d3: \"https://d3js.org/d3.v5\"}});\n",
       "   require([\"d3\"], function(d3){\n",
       "      window.d3 = d3;\n",
       "      LDAvis_load_lib(\"https://cdn.jsdelivr.net/gh/bmabey/pyLDAvis@3.3.1/pyLDAvis/js/ldavis.v3.0.0.js\", function(){\n",
       "        new LDAvis(\"#\" + \"ldavis_el7642449341888648916137150\", ldavis_el7642449341888648916137150_data);\n",
       "      });\n",
       "    });\n",
       "}else{\n",
       "    // require.js not available: dynamically load d3 & LDAvis\n",
       "    LDAvis_load_lib(\"https://d3js.org/d3.v5.js\", function(){\n",
       "         LDAvis_load_lib(\"https://cdn.jsdelivr.net/gh/bmabey/pyLDAvis@3.3.1/pyLDAvis/js/ldavis.v3.0.0.js\", function(){\n",
       "                 new LDAvis(\"#\" + \"ldavis_el7642449341888648916137150\", ldavis_el7642449341888648916137150_data);\n",
       "            })\n",
       "         });\n",
       "}\n",
       "</script>"
      ],
      "text/plain": [
       "<IPython.core.display.HTML object>"
      ]
     },
     "execution_count": 9,
     "metadata": {},
     "output_type": "execute_result"
    }
   ],
   "source": [
    "import pyLDAvis\n",
    "import pyLDAvis.gensim_models as gensimvis\n",
    "pyLDAvis.enable_notebook()\n",
    "lda_vis = gensimvis.prepare(topic_model,corpus,dictionary,sort_topics=False)\n",
    "\n",
    "pyLDAvis.display(lda_vis)\n",
    "\n",
    "\n"
   ]
  },
  {
   "cell_type": "code",
   "execution_count": null,
   "id": "f1b40f74",
   "metadata": {},
   "outputs": [],
   "source": []
  }
 ],
 "metadata": {
  "kernelspec": {
   "display_name": "Python 3 (ipykernel)",
   "language": "python",
   "name": "python3"
  },
  "language_info": {
   "codemirror_mode": {
    "name": "ipython",
    "version": 3
   },
   "file_extension": ".py",
   "mimetype": "text/x-python",
   "name": "python",
   "nbconvert_exporter": "python",
   "pygments_lexer": "ipython3",
   "version": "3.10.2"
  }
 },
 "nbformat": 4,
 "nbformat_minor": 5
}
